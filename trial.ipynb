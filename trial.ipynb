{
 "cells": [
  {
   "cell_type": "code",
   "execution_count": 4,
   "metadata": {},
   "outputs": [],
   "source": [
    "import numpy as np\n",
    "import tensorflow as tf\n",
    "import librosa\n",
    "from sklearn.preprocessing import LabelEncoder"
   ]
  },
  {
   "cell_type": "code",
   "execution_count": 5,
   "metadata": {},
   "outputs": [
    {
     "data": {
      "text/plain": [
       "array(['air_conditioner', 'car_horn', 'children_playing', 'dog_bark',\n",
       "       'drilling', 'engine_idling', 'gun_shot', 'jackhammer', 'siren',\n",
       "       'street_music'], dtype='<U16')"
      ]
     },
     "execution_count": 5,
     "metadata": {},
     "output_type": "execute_result"
    }
   ],
   "source": [
    "encoder = LabelEncoder()\n",
    "encoder.classes_ = np.load('le.npy')\n",
    "encoder.classes_"
   ]
  },
  {
   "cell_type": "code",
   "execution_count": 7,
   "metadata": {},
   "outputs": [],
   "source": [
    "model = tf.keras.models.load_model('model.h5')"
   ]
  },
  {
   "cell_type": "code",
   "execution_count": 6,
   "metadata": {},
   "outputs": [],
   "source": [
    "def extract_feature_and_print_prediction(le, modelFile, file_name):\n",
    "    audio_data, sample_rate = librosa.load(file_name) \n",
    "    fea = librosa.feature.mfcc(y=audio_data, sr=sample_rate, n_mfcc=50)\n",
    "    scaled = np.mean(fea.T,axis=0)\n",
    "    pred_fea = np.array([scaled])\n",
    "    pred_vector = np.argmax(modelFile.predict(pred_fea),axis=-1)\n",
    "    pred_class = le.inverse_transform(pred_vector)\n",
    "    print(\"The Predicted class is:\", pred_class[0], '\\n')"
   ]
  },
  {
   "cell_type": "code",
   "execution_count": 9,
   "metadata": {},
   "outputs": [
    {
     "name": "stdout",
     "output_type": "stream",
     "text": [
      "1/1 [==============================] - 0s 398ms/step\n",
      "The Predicted class is: dog_bark \n",
      "\n"
     ]
    }
   ],
   "source": [
    "extract_feature_and_print_prediction(encoder, model, 'D:/Coding/Python/PROJECTS/Stability/Sound/fold2/100652-3-0-2.wav')"
   ]
  },
  {
   "cell_type": "code",
   "execution_count": null,
   "metadata": {},
   "outputs": [],
   "source": []
  }
 ],
 "metadata": {
  "kernelspec": {
   "display_name": "Python 3",
   "language": "python",
   "name": "python3"
  },
  "language_info": {
   "codemirror_mode": {
    "name": "ipython",
    "version": 3
   },
   "file_extension": ".py",
   "mimetype": "text/x-python",
   "name": "python",
   "nbconvert_exporter": "python",
   "pygments_lexer": "ipython3",
   "version": "3.9.0"
  },
  "orig_nbformat": 4
 },
 "nbformat": 4,
 "nbformat_minor": 2
}
